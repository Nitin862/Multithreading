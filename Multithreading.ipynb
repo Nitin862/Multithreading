{
 "cells": [
  {
   "cell_type": "code",
   "execution_count": 3,
   "id": "49639f66-7c5a-4b41-a4a7-41bf6775675e",
   "metadata": {},
   "outputs": [
    {
     "data": {
      "text/plain": [
       "'Q1. What is multithreading in python? Why is it used? Name the module used to handle threads in python. '"
      ]
     },
     "execution_count": 3,
     "metadata": {},
     "output_type": "execute_result"
    }
   ],
   "source": [
    "'''Q1. What is multithreading in python? Why is it used? Name the module used to handle threads in python. '''"
   ]
  },
  {
   "cell_type": "code",
   "execution_count": 4,
   "id": "e78f96f7-cf36-4e76-9368-cd0c1646a5b8",
   "metadata": {},
   "outputs": [
    {
     "data": {
      "text/plain": [
       "'What is Multithreading?\\nMultithreading is the technique of running multiple threads (smaller\\nunits of a process) in parallel within a single program. Each thread can execute code independently, allowing your program to perform \\nseveral tasks at the same time. This is especially useful when dealing with tasks that can be performed concurrently, such as handling multiple user requests or performing background computations.\\n\\nWhy Use Multithreading?\\nEfficiency: Just like having multiple agents working on different missions, multithreading helps you use system resources more efficiently\\nby overlapping I/O-bound tasks and reducing idle times.\\nResponsiveness: It helps keep your applications responsive, particularly when dealing with tasks that may block the main thread, like \\nwaiting for network responses or reading files.\\nParallelism: While Python threads are subject to the Global Interpreter Lock (GIL), they are still useful for I/O-bound tasks, where threads\\ncan wait for external resources while other threads continue executing.'"
      ]
     },
     "execution_count": 4,
     "metadata": {},
     "output_type": "execute_result"
    }
   ],
   "source": [
    "'''What is Multithreading?\n",
    "Multithreading is the technique of running multiple threads (smaller\n",
    "units of a process) in parallel within a single program. Each thread can execute code independently, allowing your program to perform \n",
    "several tasks at the same time. This is especially useful when dealing with tasks that can be performed concurrently, such as handling multiple user requests or performing background computations.\n",
    "\n",
    "Why Use Multithreading?\n",
    "Efficiency: Just like having multiple agents working on different missions, multithreading helps you use system resources more efficiently\n",
    "by overlapping I/O-bound tasks and reducing idle times.\n",
    "Responsiveness: It helps keep your applications responsive, particularly when dealing with tasks that may block the main thread, like \n",
    "waiting for network responses or reading files.\n",
    "Parallelism: While Python threads are subject to the Global Interpreter Lock (GIL), they are still useful for I/O-bound tasks, where threads\n",
    "can wait for external resources while other threads continue executing.'''"
   ]
  },
  {
   "cell_type": "code",
   "execution_count": 5,
   "id": "7402e53f-fb2c-40eb-9fc8-d721e79a69d8",
   "metadata": {},
   "outputs": [
    {
     "data": {
      "text/plain": [
       "'Q2. Why threading module used? Write the use of the following functions\\n activeCount()\\n currentThread()\\n enumerate()'"
      ]
     },
     "execution_count": 5,
     "metadata": {},
     "output_type": "execute_result"
    }
   ],
   "source": [
    "'''Q2. Why threading module used? Write the use of the following functions\n",
    " activeCount()\n",
    " currentThread()\n",
    " enumerate()'''"
   ]
  },
  {
   "cell_type": "code",
   "execution_count": 6,
   "id": "cf9abccb-a6f5-4c10-a7e8-89def54713b2",
   "metadata": {},
   "outputs": [
    {
     "data": {
      "text/plain": [
       "'activeCount(): Shows the number of currently active threads.\\ncurrentThread(): Returns the thread object of the currently executing thread.\\nenumerate(): Lists all active threads.'"
      ]
     },
     "execution_count": 6,
     "metadata": {},
     "output_type": "execute_result"
    }
   ],
   "source": [
    "'''activeCount(): Shows the number of currently active threads.\n",
    "currentThread(): Returns the thread object of the currently executing thread.\n",
    "enumerate(): Lists all active threads.'''"
   ]
  },
  {
   "cell_type": "code",
   "execution_count": 7,
   "id": "7dd034bd-f8e9-4b04-9132-8b929c44b72f",
   "metadata": {},
   "outputs": [
    {
     "name": "stdout",
     "output_type": "stream",
     "text": [
      "Active threads: 8\n"
     ]
    }
   ],
   "source": [
    "import threading\n",
    "\n",
    "def mission():\n",
    "    pass  # Placeholder for thread tasks\n",
    "\n",
    "# Start some threads\n",
    "threading.Thread(target=mission).start()\n",
    "threading.Thread(target=mission).start()\n",
    "\n",
    "# Check active threads\n",
    "print(f\"Active threads: {threading.active_count()}\")\n"
   ]
  },
  {
   "cell_type": "code",
   "execution_count": 8,
   "id": "e60da72c-e43a-4da7-8139-12b68ede6e8f",
   "metadata": {},
   "outputs": [
    {
     "name": "stdout",
     "output_type": "stream",
     "text": [
      "Current thread: Alpha\n"
     ]
    }
   ],
   "source": [
    "import threading\n",
    "\n",
    "def mission():\n",
    "    print(f\"Current thread: {threading.current_thread().name}\")\n",
    "\n",
    "# Start a thread with a custom name\n",
    "thread = threading.Thread(target=mission, name='Alpha')\n",
    "thread.start()\n"
   ]
  },
  {
   "cell_type": "code",
   "execution_count": 9,
   "id": "3c67760e-6143-4c8e-8ae5-b039cca3b703",
   "metadata": {},
   "outputs": [
    {
     "name": "stdout",
     "output_type": "stream",
     "text": [
      "Thread name: MainThread\n",
      "Thread name: IOPub\n",
      "Thread name: Heartbeat\n",
      "Thread name: Thread-3 (_watch_pipe_fd)\n",
      "Thread name: Thread-4 (_watch_pipe_fd)\n",
      "Thread name: Control\n",
      "Thread name: IPythonHistorySavingThread\n",
      "Thread name: Thread-2\n"
     ]
    }
   ],
   "source": [
    "import threading\n",
    "\n",
    "def mission():\n",
    "    pass  # Placeholder for thread tasks\n",
    "\n",
    "# Start some threads\n",
    "threading.Thread(target=mission, name='Alpha').start()\n",
    "threading.Thread(target=mission, name='Beta').start()\n",
    "\n",
    "# List all active threads\n",
    "for thread in threading.enumerate():\n",
    "    print(f\"Thread name: {thread.name}\")\n"
   ]
  },
  {
   "cell_type": "code",
   "execution_count": 10,
   "id": "db87a384-e953-4d24-b3b5-d601399f26e7",
   "metadata": {},
   "outputs": [
    {
     "data": {
      "text/plain": [
       "\"Q3. Explain the following functions\\n run()\\n start()\\n join()\\n' isAlive()\""
      ]
     },
     "execution_count": 10,
     "metadata": {},
     "output_type": "execute_result"
    }
   ],
   "source": [
    "'''Q3. Explain the following functions\n",
    " run()\n",
    " start()\n",
    " join()\n",
    "' isAlive()'''"
   ]
  },
  {
   "cell_type": "code",
   "execution_count": 11,
   "id": "68aad892-ef86-4ea2-a889-e16e7024623a",
   "metadata": {},
   "outputs": [
    {
     "data": {
      "text/plain": [
       "'run(): Defines the code to be executed by the thread. It is usually overridden in a subclass of Thread.\\n\\nstart(): Begins the thread’s activity by invoking the run() method in a new thread.\\n\\njoin(): Waits for the thread to complete its execution before continuing with the main thread.\\n\\nis_alive(): Checks if the thread is currently running or has finished execution.'"
      ]
     },
     "execution_count": 11,
     "metadata": {},
     "output_type": "execute_result"
    }
   ],
   "source": [
    "'''run(): Defines the code to be executed by the thread. It is usually overridden in a subclass of Thread.\n",
    "\n",
    "start(): Begins the thread’s activity by invoking the run() method in a new thread.\n",
    "\n",
    "join(): Waits for the thread to complete its execution before continuing with the main thread.\n",
    "\n",
    "is_alive(): Checks if the thread is currently running or has finished execution.'''"
   ]
  },
  {
   "cell_type": "code",
   "execution_count": 12,
   "id": "415a16b9-9478-4949-b094-b4b8f7c1ea68",
   "metadata": {},
   "outputs": [
    {
     "data": {
      "text/plain": [
       "'Q4. Write a python program to create two threads. Thread one must print the list of squares and thread\\ntwo must print the list of cubes.'"
      ]
     },
     "execution_count": 12,
     "metadata": {},
     "output_type": "execute_result"
    }
   ],
   "source": [
    "'''Q4. Write a python program to create two threads. Thread one must print the list of squares and thread\n",
    "two must print the list of cubes.'''\n"
   ]
  },
  {
   "cell_type": "code",
   "execution_count": 13,
   "id": "469ce2ab-c1b6-477b-9bff-d1b47a66136b",
   "metadata": {},
   "outputs": [
    {
     "name": "stdout",
     "output_type": "stream",
     "text": [
      "Squares: [0, 1, 4, 9, 16]\n",
      "Cubes: [0, 1, 8, 27, 64]\n"
     ]
    }
   ],
   "source": [
    "import threading\n",
    "\n",
    "def print_squares():\n",
    "    squares = [x**2 for x in range(5)]\n",
    "    print(\"Squares:\", squares)\n",
    "\n",
    "def print_cubes():\n",
    "    cubes = [x**3 for x in range(5)]\n",
    "    print(\"Cubes:\", cubes)\n",
    "\n",
    "# Create threads\n",
    "thread1 = threading.Thread(target=print_squares)\n",
    "thread2 = threading.Thread(target=print_cubes)\n",
    "\n",
    "# Start threads\n",
    "thread1.start()\n",
    "thread2.start()\n",
    "\n",
    "# Wait for threads to complete\n",
    "thread1.join()\n",
    "thread2.join()\n"
   ]
  },
  {
   "cell_type": "code",
   "execution_count": 14,
   "id": "568f09f4-2a5c-4b20-a85d-70c6b19561fc",
   "metadata": {},
   "outputs": [
    {
     "data": {
      "text/plain": [
       "'Q5. State advantages and disadvantages of multithreading.'"
      ]
     },
     "execution_count": 14,
     "metadata": {},
     "output_type": "execute_result"
    }
   ],
   "source": [
    "'''Q5. State advantages and disadvantages of multithreading.'''\n"
   ]
  },
  {
   "cell_type": "code",
   "execution_count": 15,
   "id": "2c12d414-5cfd-474a-88f3-b88aa9bedea4",
   "metadata": {},
   "outputs": [
    {
     "data": {
      "text/plain": [
       "'Advantages of Multithreading:\\n\\nImproved Performance: Handles multiple tasks concurrently, increasing application efficiency, especially for I/O-bound tasks.\\nResponsiveness: Keeps applications responsive by performing background tasks without blocking the main thread.\\nResource Sharing: Threads within the same process share memory and resources, making communication between threads efficient.\\n   \\n   Disadvantages of Multithreading:\\n\\nComplexity: Can lead to complex code, making debugging and maintenance more challenging.\\nConcurrency Issues: Requires careful management of shared resources to avoid race conditions and deadlocks.\\nGlobal Interpreter Lock (GIL): In CPython, the GIL can limit the effectiveness of multithreading for CPU-bound tasks.'"
      ]
     },
     "execution_count": 15,
     "metadata": {},
     "output_type": "execute_result"
    }
   ],
   "source": [
    "'''Advantages of Multithreading:\n",
    "\n",
    "Improved Performance: Handles multiple tasks concurrently, increasing application efficiency, especially for I/O-bound tasks.\n",
    "Responsiveness: Keeps applications responsive by performing background tasks without blocking the main thread.\n",
    "Resource Sharing: Threads within the same process share memory and resources, making communication between threads efficient.\n",
    "   \n",
    "   Disadvantages of Multithreading:\n",
    "\n",
    "Complexity: Can lead to complex code, making debugging and maintenance more challenging.\n",
    "Concurrency Issues: Requires careful management of shared resources to avoid race conditions and deadlocks.\n",
    "Global Interpreter Lock (GIL): In CPython, the GIL can limit the effectiveness of multithreading for CPU-bound tasks.'''\n",
    "\n",
    "\n",
    "\n",
    "\n",
    "\n",
    "\n"
   ]
  },
  {
   "cell_type": "code",
   "execution_count": 16,
   "id": "cd5153b7-5187-4b47-84b7-1d73bd8da253",
   "metadata": {},
   "outputs": [
    {
     "data": {
      "text/plain": [
       "'Q6. Explain deadlocks and race conditions.'"
      ]
     },
     "execution_count": 16,
     "metadata": {},
     "output_type": "execute_result"
    }
   ],
   "source": [
    "'''Q6. Explain deadlocks and race conditions.'''\n"
   ]
  },
  {
   "cell_type": "code",
   "execution_count": 17,
   "id": "4e6907a2-5851-4bd7-8a50-10f76303ccee",
   "metadata": {},
   "outputs": [
    {
     "data": {
      "text/plain": [
       "'Deadlocks:\\n\\nDefinition: A situation where two or more threads are blocked forever, each waiting for the other to release a resource.\\nExample: Thread A holds Resource 1 and waits for Resource 2, while Thread B holds Resource 2 and waits for Resource 1.\\nRace Conditions:\\n\\nDefinition: Occur when the outcome of a program depends on the unpredictable timing of thread execution, leading to inconsistent or incorrect results.\\nExample: Two threads concurrently modify a shared variable without proper synchronization, causing unexpected values.'"
      ]
     },
     "execution_count": 17,
     "metadata": {},
     "output_type": "execute_result"
    }
   ],
   "source": [
    "'''Deadlocks:\n",
    "\n",
    "Definition: A situation where two or more threads are blocked forever, each waiting for the other to release a resource.\n",
    "Example: Thread A holds Resource 1 and waits for Resource 2, while Thread B holds Resource 2 and waits for Resource 1.\n",
    "Race Conditions:\n",
    "\n",
    "Definition: Occur when the outcome of a program depends on the unpredictable timing of thread execution, leading to inconsistent or incorrect results.\n",
    "Example: Two threads concurrently modify a shared variable without proper synchronization, causing unexpected values.'''"
   ]
  },
  {
   "cell_type": "code",
   "execution_count": null,
   "id": "ec66093e-3727-430c-8088-7dfec88e2da3",
   "metadata": {},
   "outputs": [],
   "source": []
  }
 ],
 "metadata": {
  "kernelspec": {
   "display_name": "Python 3 (ipykernel)",
   "language": "python",
   "name": "python3"
  },
  "language_info": {
   "codemirror_mode": {
    "name": "ipython",
    "version": 3
   },
   "file_extension": ".py",
   "mimetype": "text/x-python",
   "name": "python",
   "nbconvert_exporter": "python",
   "pygments_lexer": "ipython3",
   "version": "3.10.8"
  }
 },
 "nbformat": 4,
 "nbformat_minor": 5
}
